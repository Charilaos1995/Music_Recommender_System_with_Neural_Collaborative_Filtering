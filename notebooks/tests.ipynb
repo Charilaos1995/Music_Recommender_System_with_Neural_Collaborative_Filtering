{
 "cells": [
  {
   "metadata": {},
   "cell_type": "code",
   "source": [
    "import librosa\n",
    "import librosa.display\n",
    "import numpy as np\n",
    "import os\n",
    "\n",
    "AUDIO_DIR = \"../ContentBased_data/MP3-Example\"\n",
    "\n",
    "def list_audio_files(base_dir):\n",
    "    \"\"\"List all audio files grouped by genre.\"\"\"\n",
    "    genre_files = {}\n",
    "    for genre in os.listdir(base_dir):\n",
    "        genre_path = os.path.join(base_dir, genre)\n",
    "        if os.path.isdir(genre_path):\n",
    "            files = [f for f in os.listdir(genre_path) if f.endswith('.mp3')]\n",
    "            genre_files[genre] = files\n",
    "    return genre_files\n",
    "\n",
    "# File list\n",
    "audio_files = list_audio_files(AUDIO_DIR)\n",
    "\n",
    "def test_downsample(file_path, target_sr=22050):\n",
    "    \"\"\"Test downsampling an audio file to the target sample rate (22,050 Hz)\"\"\"\n",
    "    try:\n",
    "        # Load original audio\n",
    "        y, sr = librosa.load(file_path, sr=None) # Original sample rate\n",
    "        print(f\"Original Sample Rate: {sr} Hz, Duration: {librosa.get_duration(y=y, sr=sr):.2f} sec\")\n",
    "\n",
    "        # Downsample audio\n",
    "        y_downsampled = librosa.resample(y, orig_sr=sr, target_sr=target_sr)\n",
    "        print(f\"Downsampled Sample Rate: {target_sr} Hz, New Duration: {librosa.get_duration(y=y_downsampled, sr=target_sr):.2f} sec\")\n",
    "\n",
    "        # Verify array size difference\n",
    "        print(f\"Original Length: {len(y)}, Downsampled Length: {len(y_downsampled)}\")\n",
    "\n",
    "        return y_downsampled, target_sr\n",
    "\n",
    "    except Exception as e:\n",
    "        print(f\"Error during downsampling: {e}\")\n",
    "\n",
    "test_file = os.path.join(AUDIO_DIR, \"Blues\", audio_files[\"Blues\"][0])\n",
    "test_downsample(test_file)"
   ],
   "id": "18480c8cc7049503",
   "outputs": [],
   "execution_count": null
  },
  {
   "metadata": {},
   "cell_type": "code",
   "source": [
    "import os\n",
    "\n",
    "# Path to the downsampled directory\n",
    "DOWNSAMPLED_DIR = \"../ContentBased_data/MP3-Example-Downsampled\"\n",
    "\n",
    "# Check folder structure\n",
    "for genre in os.listdir(DOWNSAMPLED_DIR):\n",
    "    genre_path = os.path.join(DOWNSAMPLED_DIR, genre)\n",
    "    if os.path.isdir(genre_path):\n",
    "        files = os.listdir(genre_path)\n",
    "        print(f\"🎶 Genre: {genre} | Files: {len(files)} | Sample: {files[:3]}\")\n"
   ],
   "id": "2b658c6d70730511",
   "outputs": [],
   "execution_count": null
  },
  {
   "metadata": {},
   "cell_type": "code",
   "source": "",
   "id": "b19a54302ee08442",
   "outputs": [],
   "execution_count": null
  }
 ],
 "metadata": {
  "kernelspec": {
   "display_name": "Python 3",
   "language": "python",
   "name": "python3"
  },
  "language_info": {
   "codemirror_mode": {
    "name": "ipython",
    "version": 2
   },
   "file_extension": ".py",
   "mimetype": "text/x-python",
   "name": "python",
   "nbconvert_exporter": "python",
   "pygments_lexer": "ipython2",
   "version": "2.7.6"
  }
 },
 "nbformat": 4,
 "nbformat_minor": 5
}
